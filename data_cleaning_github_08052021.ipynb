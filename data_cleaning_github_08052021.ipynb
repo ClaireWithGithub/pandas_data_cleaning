{
 "cells": [
  {
   "cell_type": "code",
   "execution_count": null,
   "metadata": {},
   "outputs": [],
   "source": [
    "import pandas as pd\n",
    "from glob import glob"
   ]
  },
  {
   "cell_type": "markdown",
   "metadata": {},
   "source": [
    "## Merge Multiple Workbooks/Files of Multiple Sheets"
   ]
  },
  {
   "cell_type": "code",
   "execution_count": null,
   "metadata": {},
   "outputs": [],
   "source": [
    "df = pd.DataFrame()\n",
    "# the glob module is used to retrieve files/pathnames matching a specified pattern\n",
    "dir_filenames = sorted(glob('./*.xlsx')) # all excel files from current directory\n",
    "for dir_file in dir_filenames:\n",
    "    dict_xlsx = pd.read_excel(dir_file, sheet_name=None) \n",
    "    workbook = pd.concat([v_df.assign(Sheet = k) for k,v_df in dict_xlsx.items()], ignore_index=True)\n",
    "    df = pd.concat([df,workbook],ignore_index=True)\n",
    "print(f'shape of merged files:{df.shape}')"
   ]
  },
  {
   "cell_type": "markdown",
   "metadata": {},
   "source": [
    "## Check Null Values and %Nulls"
   ]
  },
  {
   "cell_type": "code",
   "execution_count": null,
   "metadata": {},
   "outputs": [],
   "source": [
    "count_null_series = df.isnull().sum() # returns series\n",
    "count_null_df = pd.DataFrame(data=count_null_series, columns=['Num_Nulls'])\n",
    "# what % of the null values take for that column\n",
    "pct_null_df = pd.DataFrame(data=count_null_series/len(df), columns=['Pct_Nulls'])\n",
    "null_stats = pd.concat([count_null_df, pct_null_df],axis=1)\n",
    "# format the % to remain 2 decimals\n",
    "df['Pct_Nulls'] = df['Pct_Nulls'].apply(lambda x: '{:,.2%}'.format(x))\n",
    "null_stats"
   ]
  },
  {
   "cell_type": "markdown",
   "metadata": {},
   "source": [
    "### Handling Nulls"
   ]
  },
  {
   "cell_type": "code",
   "execution_count": null,
   "metadata": {},
   "outputs": [],
   "source": [
    "# time-series data\n",
    "df[col_name].fillna(method=\"ffill\",inplace=True)\n",
    "# fill na on multiple columns with different constant. col1,2,3 are column names\n",
    "df.fillna(value={col1:50, col2:67, col3:100}, inplace=True)\n",
    "# fill na with column mean\n",
    "df.where(pd.notna(df), df.mean(), axis=\"columns\", inplace=True)\n",
    "# drop rows when any column is null\n",
    "df.dropna(subset=subset_list, inplace=True)\n",
    "# drop columns when %Null reaches a threshold\n",
    "df.dropna(thresh=len(df)/2, axis=1, inplace=True)"
   ]
  },
  {
   "cell_type": "markdown",
   "metadata": {},
   "source": [
    "## Drop Columns"
   ]
  },
  {
   "cell_type": "code",
   "execution_count": null,
   "metadata": {},
   "outputs": [],
   "source": [
    "df.drop(df.columns[start_ind:stop_ind],axis=1,inplace=True)"
   ]
  },
  {
   "cell_type": "markdown",
   "metadata": {},
   "source": [
    "## Clean Column Names"
   ]
  },
  {
   "cell_type": "code",
   "execution_count": null,
   "metadata": {},
   "outputs": [],
   "source": [
    "df.rename(columns=change_dict, inplace=True)\n",
    "# remove special characters from column name\n",
    "df.columns = df.columns.str.replace('[&,#,@,(,)]', '')\n",
    "# remove leading/trailing space and add _ to in-between spaces\n",
    "df.columns = df.columns.str.strip().str.replace(' ','_')"
   ]
  },
  {
   "cell_type": "markdown",
   "metadata": {},
   "source": [
    "## Change Data Types"
   ]
  },
  {
   "cell_type": "code",
   "execution_count": null,
   "metadata": {},
   "outputs": [],
   "source": [
    "for c in ['OrderID','ItemID','Class']:\n",
    "    df[c] = df[c].astype('str')"
   ]
  },
  {
   "cell_type": "markdown",
   "metadata": {},
   "source": [
    "## Find & Drop Duplicates"
   ]
  },
  {
   "cell_type": "code",
   "execution_count": null,
   "metadata": {},
   "outputs": [],
   "source": [
    "len_df = len(df)\n",
    "len_drop = len(df.drop_duplicates(subset = subset_list))\n",
    "len_diff = len_df-len_drop\n",
    "print(f'difference of length:{len_diff}')\n",
    "if len_diff>0:\n",
    "    dups = df[df.duplicated(keep=False)].sort_values(by=sort_list) \n",
    "    dups"
   ]
  },
  {
   "cell_type": "code",
   "execution_count": null,
   "metadata": {},
   "outputs": [],
   "source": [
    "# i.e. keep the last value of the duplicates\n",
    "df_drop = df.drop_duplicates(subset=subset_list,keep='last')"
   ]
  },
  {
   "cell_type": "markdown",
   "metadata": {},
   "source": [
    "## Clean Date and Time"
   ]
  },
  {
   "attachments": {
    "b453afc8-9356-4c4c-a6fd-bd418448f0f7.png": {
     "image/png": "[encoded data removed]"
    }
   },
   "cell_type": "markdown",
   "metadata": {},
   "source": [
    "![image.png](attachment:b453afc8-9356-4c4c-a6fd-bd418448f0f7.png)"
   ]
  },
  {
   "cell_type": "code",
   "execution_count": 39,
   "metadata": {
    "execution": {
     "iopub.execute_input": "2021-07-13T18:04:35.422177Z",
     "iopub.status.busy": "2021-07-13T18:04:35.422177Z",
     "iopub.status.idle": "2021-07-13T18:04:35.436139Z",
     "shell.execute_reply": "2021-07-13T18:04:35.435141Z",
     "shell.execute_reply.started": "2021-07-13T18:04:35.422177Z"
    },
    "tags": []
   },
   "outputs": [],
   "source": [
    "# split by comma, retrieve the first column\n",
    "df['date_com'] = df['date_com'].str.split(',', expand=True)[0] # depends on the data\n",
    "df['date_com'] = pd.to_datetime(df['date_com'], format='%Y-%m-%d %H:%M:%S')"
   ]
  },
  {
   "attachments": {
    "22194025-cbdf-4ad4-8d73-7228f642f5b0.png": {
     "image/png": "[encoded data removed]"
    }
   },
   "cell_type": "markdown",
   "metadata": {},
   "source": [
    "![image.png](attachment:22194025-cbdf-4ad4-8d73-7228f642f5b0.png)"
   ]
  },
  {
   "cell_type": "markdown",
   "metadata": {},
   "source": [
    "### Split Date and Time"
   ]
  },
  {
   "cell_type": "code",
   "execution_count": null,
   "metadata": {},
   "outputs": [],
   "source": [
    "df['Date'] = df['date_com'].dt.date\n",
    "dt_lst = df['date_com'].str.split(' ', n=1, expand = True)\n",
    "df['Time'] = dt_lst[1]\n",
    "# extract hour from Time\n",
    "time_lst = df['date_com'].str.split(':', n=1, expand = True)\n",
    "df['Hour'] = time_lst[0] #str\n",
    "df['Hour'] = df['Hour'].astype(int)"
   ]
  },
  {
   "cell_type": "code",
   "execution_count": null,
   "metadata": {},
   "outputs": [],
   "source": []
  }
 ],
 "metadata": {
  "kernelspec": {
   "display_name": "Python 3",
   "language": "python",
   "name": "python3"
  },
  "language_info": {
   "codemirror_mode": {
    "name": "ipython",
    "version": 3
   },
   "file_extension": ".py",
   "mimetype": "text/x-python",
   "name": "python",
   "nbconvert_exporter": "python",
   "pygments_lexer": "ipython3",
   "version": "3.8.5"
  }
 },
 "nbformat": 4,
 "nbformat_minor": 4
}
